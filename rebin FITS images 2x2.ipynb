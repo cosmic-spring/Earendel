{
 "cells": [
  {
   "cell_type": "markdown",
   "metadata": {},
   "source": [
    "# Rebin FITS images 2 x 2\n",
    "\n",
    "For example, grizli processed JWST images at 20mas and 40mas / pixel"
   ]
  },
  {
   "cell_type": "markdown",
   "metadata": {},
   "source": [
    "WHL0137 + Sunrise Arc + Earendel:  \n",
    "https://s3.amazonaws.com/grizli-v2/JwstMosaics/whl0137/arc-v2/index.html"
   ]
  },
  {
   "cell_type": "code",
   "execution_count": 1,
   "metadata": {},
   "outputs": [],
   "source": [
    "import os\n",
    "from glob import glob\n",
    "import numpy as np\n",
    "from astropy.io import fits\n",
    "import astropy.wcs as wcs"
   ]
  },
  {
   "cell_type": "code",
   "execution_count": 2,
   "metadata": {},
   "outputs": [
    {
     "name": "stdout",
     "output_type": "stream",
     "text": [
      "[[0 1 2]\n",
      " [3 4 5]\n",
      " [6 7 8]] <-- a\n",
      "[[0 0 1 1 2 2]\n",
      " [0 0 1 1 2 2]\n",
      " [3 3 4 4 5 5]\n",
      " [3 3 4 4 5 5]\n",
      " [6 6 7 7 8 8]\n",
      " [6 6 7 7 8 8]] <-- AA\n",
      "[[0. 1. 2.]\n",
      " [3. 4. 5.]\n",
      " [6. 7. 8.]] <-- b\n"
     ]
    }
   ],
   "source": [
    "# Integer scaling of arrays. For non-integer scaling, see ndimage.map_coordinates or:\n",
    "# from reproject import reproject_interp  # https://reproject.readthedocs.io/en/stable/\n",
    "\n",
    "def magnify(a, n):\n",
    "    \"\"\"MAGNIFIES A MATRIX BY n\n",
    "    YIELDING, FOR EXAMPLE:\n",
    "    >>> a = np.arange(9).reshape(3, 3)\n",
    "    >>> AA = magnify(a, 2)\n",
    "    >>> AA\n",
    "    001122\n",
    "    001122\n",
    "    334455\n",
    "    334455\n",
    "    667788\n",
    "    667788\n",
    "    \"\"\"\n",
    "    ny, nx = a.shape\n",
    "    a = np.repeat(a, n**2)\n",
    "    a = np.reshape(a, (ny,nx,n,n))\n",
    "    a = np.transpose(a, (0, 2, 1, 3))\n",
    "    a = np.reshape(a, (n*ny, n*nx))\n",
    "    return a\n",
    "\n",
    "def reshape_block(a, n):\n",
    "    \"\"\"(ny, nx) -> (n*n, ny/n, nx/n)\"\"\"\n",
    "    ny, nx = np.array(a.shape) // n\n",
    "    a = a[:ny*n,:nx*n]  # Trim if not even multiples\n",
    "    a = np.reshape(a, (ny, n, nx, n))\n",
    "    a = np.transpose(a, (0, 2, 1, 3))\n",
    "    a = np.reshape(a, (ny, nx, n*n))\n",
    "    a = np.transpose(a, (2, 0, 1))\n",
    "    return a\n",
    "\n",
    "def demagnify(a, n, func=np.mean):  # rebin\n",
    "    \"\"\"DEMAGNIFIES A MATRIX BY n\n",
    "    YIELDING, FOR EXAMPLE:\n",
    "    >>> demagnify(AA, 2)\n",
    "    012\n",
    "    345\n",
    "    678\n",
    "    \"\"\"\n",
    "    a = reshape_block(a, n)\n",
    "    a = func(a, axis=0)\n",
    "    return a\n",
    "\n",
    "# Demonstrate\n",
    "if 1:\n",
    "    a = np.arange(9).reshape(3, 3)\n",
    "    print(a, '<-- a')\n",
    "    AA = magnify(a, 2)\n",
    "    print(AA, '<-- AA')\n",
    "    b = demagnify(AA, 2)\n",
    "    print(b, '<-- b')"
   ]
  },
  {
   "cell_type": "code",
   "execution_count": 19,
   "metadata": {},
   "outputs": [],
   "source": [
    "def report_pixel_scale(image_file):\n",
    "    hdu = fits.open(image_file)\n",
    "    filt = extract_filter(image_file)\n",
    "    imwcs = wcs.WCS(hdu[idata].header, hdu)\n",
    "    data = hdu[idata].data\n",
    "    ny, nx = data.shape\n",
    "    # image_pixel_scale = np.abs(hdu[0].header['CD1_1']) * 3600\n",
    "    image_pixel_scale = wcs.utils.proj_plane_pixel_scales(imwcs)[0] \n",
    "    image_pixel_scale *= imwcs.wcs.cunit[0].to('arcsec')\n",
    "    outline = filt.ljust(6)\n",
    "    outline += ' %5d x %5d pixels' % (ny, nx)\n",
    "    outline += ' = %6.2f\" x %6.2f\"' % (ny * image_pixel_scale, nx * image_pixel_scale)\n",
    "    outline += ' (%.2f\" / pixel)' % image_pixel_scale\n",
    "    print(outline)"
   ]
  },
  {
   "cell_type": "code",
   "execution_count": 3,
   "metadata": {},
   "outputs": [],
   "source": [
    "def extract_filter(image_file):\n",
    "    return os.path.basename(image_file).split('_')[0].lower().split('-')[2]\n",
    "    #return image_file.split('_')[0].lower().split('-')[1]"
   ]
  },
  {
   "cell_type": "code",
   "execution_count": 4,
   "metadata": {},
   "outputs": [
    {
     "data": {
      "text/plain": [
       "['../images/nep-2mass-f070w-clear_drc_sci.fits',\n",
       " '../images/nep-2mass-f115w-clear_drc_sci.fits',\n",
       " '../images/nep-2mass-f200w-clear_drc_sci.fits',\n",
       " '../images/nep-2mass-f212n-clear_drc_sci.fits',\n",
       " '../images/nep-2mass-f277w-clear_drc_sci.fits',\n",
       " '../images/nep-2mass-f356w-clear_drc_sci.fits',\n",
       " '../images/nep-2mass-f410m-clear_drc_sci.fits',\n",
       " '../images/nep-2mass-f444w-clear_drc_sci.fits']"
      ]
     },
     "execution_count": 4,
     "metadata": {},
     "output_type": "execute_result"
    }
   ],
   "source": [
    "#image_files_list = glob('../images/*_i2d.fits')\n",
    "#image_files_list = glob('../images/grizli_v2/20mas/*_sci.fits*')\n",
    "image_files_list = glob('../images/*_sci.fits*')\n",
    "image_files_list = list(np.sort(image_files_list))\n",
    "#image_files_list = image_files_list[-1:] + image_files_list[:-1]  # move F770W first\n",
    "image_files_list"
   ]
  },
  {
   "cell_type": "code",
   "execution_count": 5,
   "metadata": {},
   "outputs": [
    {
     "name": "stdout",
     "output_type": "stream",
     "text": [
      "f070w ../images/nep-2mass-f070w-clear_drc_sci.fits\n",
      "f115w ../images/nep-2mass-f115w-clear_drc_sci.fits\n",
      "f200w ../images/nep-2mass-f200w-clear_drc_sci.fits\n",
      "f212n ../images/nep-2mass-f212n-clear_drc_sci.fits\n",
      "f277w ../images/nep-2mass-f277w-clear_drc_sci.fits\n",
      "f356w ../images/nep-2mass-f356w-clear_drc_sci.fits\n",
      "f410m ../images/nep-2mass-f410m-clear_drc_sci.fits\n",
      "f444w ../images/nep-2mass-f444w-clear_drc_sci.fits\n"
     ]
    }
   ],
   "source": [
    "filters = list(map(extract_filter, image_files_list))\n",
    "\n",
    "image_files_dict = {}\n",
    "for i, filt in enumerate(filters):\n",
    "    image_files_dict[filt] = image_files_list[i]\n",
    "    print(filt, image_files_dict[filt])"
   ]
  },
  {
   "cell_type": "code",
   "execution_count": 6,
   "metadata": {},
   "outputs": [
    {
     "data": {
      "text/plain": [
       "'nep-2mass'"
      ]
     },
     "execution_count": 6,
     "metadata": {},
     "output_type": "execute_result"
    }
   ],
   "source": [
    "#field = os.path.basename(image_files_list[0]).split('-')[0]\n",
    "field = 'nep-2mass'\n",
    "field"
   ]
  },
  {
   "cell_type": "code",
   "execution_count": 7,
   "metadata": {},
   "outputs": [],
   "source": [
    "#idata = 'sci'  # index where science data is\n",
    "idata = 0  # index where science data is"
   ]
  },
  {
   "cell_type": "code",
   "execution_count": 8,
   "metadata": {},
   "outputs": [
    {
     "name": "stdout",
     "output_type": "stream",
     "text": [
      "f070w  20000 x 11500 pixels = 400.00\" x 230.00\" (0.02\" / pixel)\n",
      "f115w  20000 x 11500 pixels = 400.00\" x 230.00\" (0.02\" / pixel)\n",
      "f200w  20000 x 11500 pixels = 400.00\" x 230.00\" (0.02\" / pixel)\n",
      "f212n  20000 x 11500 pixels = 400.00\" x 230.00\" (0.02\" / pixel)\n",
      "f277w  10000 x  5750 pixels = 400.00\" x 230.00\" (0.04\" / pixel)\n",
      "f356w  10000 x  5750 pixels = 400.00\" x 230.00\" (0.04\" / pixel)\n",
      "f410m  10000 x  5750 pixels = 400.00\" x 230.00\" (0.04\" / pixel)\n",
      "f444w  10000 x  5750 pixels = 400.00\" x 230.00\" (0.04\" / pixel)\n"
     ]
    }
   ],
   "source": [
    "# Check size of every image; they need to be the same, all pixel aligned\n",
    "\n",
    "for filt in filters:\n",
    "    report_pixel_scale(image_files_dict[filt])"
   ]
  },
  {
   "cell_type": "code",
   "execution_count": 9,
   "metadata": {},
   "outputs": [
    {
     "data": {
      "text/plain": [
       "'../images/nep-2mass-f200w-clear_drc_sci.fits'"
      ]
     },
     "execution_count": 9,
     "metadata": {},
     "output_type": "execute_result"
    }
   ],
   "source": [
    "# Remap all images to this pixel scale and use this image header\n",
    "\n",
    "reference_filter = 'f200w'\n",
    "reference_file = image_files_dict[reference_filter]\n",
    "reference_hdu = fits.open(reference_file)\n",
    "reference_header = reference_hdu[idata].header\n",
    "reference_file"
   ]
  },
  {
   "cell_type": "code",
   "execution_count": 10,
   "metadata": {},
   "outputs": [
    {
     "data": {
      "text/plain": [
       "(20000, 11500)"
      ]
     },
     "execution_count": 10,
     "metadata": {},
     "output_type": "execute_result"
    }
   ],
   "source": [
    "reference_hdu[idata].data.shape"
   ]
  },
  {
   "cell_type": "code",
   "execution_count": 11,
   "metadata": {},
   "outputs": [
    {
     "data": {
      "text/plain": [
       "SIMPLE  =                    T / conforms to FITS standard                      \n",
       "BITPIX  =                  -32 / array data type                                \n",
       "NAXIS   =                    2 / number of array dimensions                     \n",
       "NAXIS1  =                11500                                                  \n",
       "NAXIS2  =                20000                                                  \n",
       "WCSAXES =                    2 / Number of coordinate axes                      \n",
       "CRPIX1  =               5751.5 / Pixel coordinate of reference point            \n",
       "CRPIX2  =              10001.5 / Pixel coordinate of reference point            \n",
       "CD1_1   = -5.5555555555555E-06 / Coordinate transformation matrix element       \n",
       "CD2_2   =  5.5555555555555E-06 / Coordinate transformation matrix element       "
      ]
     },
     "execution_count": 11,
     "metadata": {},
     "output_type": "execute_result"
    }
   ],
   "source": [
    "reference_header[:10]"
   ]
  },
  {
   "cell_type": "code",
   "execution_count": 12,
   "metadata": {},
   "outputs": [],
   "source": [
    "magnification_factor = 2\n",
    "output_extension = '_20mas_sci'\n",
    "output_directory = '../images/20mas'"
   ]
  },
  {
   "cell_type": "code",
   "execution_count": 24,
   "metadata": {},
   "outputs": [
    {
     "name": "stdout",
     "output_type": "stream",
     "text": [
      "LOADING ../images/nep-2mass-f277w-clear_drc_sci.fits\n",
      "f277w  10000 x  5750 pixels = 400.00\" x 230.00\" (0.04\" / pixel)\n",
      "CREATING ../images/20mas/nep-2mass-f277w-clear_20mas_sci.fits\n",
      "f277w  20000 x 11500 pixels = 400.00\" x 230.00\" (0.02\" / pixel)\n",
      "\n",
      "LOADING ../images/nep-2mass-f356w-clear_drc_sci.fits\n",
      "f356w  10000 x  5750 pixels = 400.00\" x 230.00\" (0.04\" / pixel)\n",
      "CREATING ../images/20mas/nep-2mass-f356w-clear_20mas_sci.fits\n",
      "f356w  20000 x 11500 pixels = 400.00\" x 230.00\" (0.02\" / pixel)\n",
      "\n",
      "LOADING ../images/nep-2mass-f410m-clear_drc_sci.fits\n",
      "f410m  10000 x  5750 pixels = 400.00\" x 230.00\" (0.04\" / pixel)\n",
      "CREATING ../images/20mas/nep-2mass-f410m-clear_20mas_sci.fits\n",
      "f410m  20000 x 11500 pixels = 400.00\" x 230.00\" (0.02\" / pixel)\n",
      "\n",
      "LOADING ../images/nep-2mass-f444w-clear_drc_sci.fits\n",
      "f444w  10000 x  5750 pixels = 400.00\" x 230.00\" (0.04\" / pixel)\n",
      "CREATING ../images/20mas/nep-2mass-f444w-clear_20mas_sci.fits\n",
      "f444w  20000 x 11500 pixels = 400.00\" x 230.00\" (0.02\" / pixel)\n",
      "\n"
     ]
    }
   ],
   "source": [
    "for filt in 'f277w f356w f410m f444w'.split():\n",
    "    image_file = image_files_dict[filt]\n",
    "    print('LOADING', image_file)\n",
    "    data = fits.getdata(image_file)\n",
    "    #print(data.shape)\n",
    "    report_pixel_scale(image_file)\n",
    "    #print()\n",
    "    #\n",
    "    reprojected_file = image_file.replace('_drc_sci', output_extension)\n",
    "    reprojected_file = os.path.basename(reprojected_file)\n",
    "    reprojected_file = os.path.join(output_directory, reprojected_file)\n",
    "    print('CREATING', reprojected_file)\n",
    "    reprojected_data = magnify(data, magnification_factor)\n",
    "    #print(reprojected_data.shape)\n",
    "    fits.writeto(reprojected_file, reprojected_data, reference_header)\n",
    "    report_pixel_scale(reprojected_file)\n",
    "    print()"
   ]
  },
  {
   "cell_type": "code",
   "execution_count": 25,
   "metadata": {},
   "outputs": [
    {
     "data": {
      "text/plain": [
       "['../images/20mas/nep-2mass-f070w-clear_drc_sci.fits',\n",
       " '../images/20mas/nep-2mass-f115w-clear_drc_sci.fits',\n",
       " '../images/20mas/nep-2mass-f200w-clear_drc_sci.fits',\n",
       " '../images/20mas/nep-2mass-f212n-clear_drc_sci.fits',\n",
       " '../images/20mas/nep-2mass-f277w-clear_20mas_sci.fits',\n",
       " '../images/20mas/nep-2mass-f356w-clear_20mas_sci.fits',\n",
       " '../images/20mas/nep-2mass-f410m-clear_20mas_sci.fits',\n",
       " '../images/20mas/nep-2mass-f444w-clear_20mas_sci.fits']"
      ]
     },
     "execution_count": 25,
     "metadata": {},
     "output_type": "execute_result"
    }
   ],
   "source": [
    "#image_files_list = glob('../images/*_i2d.fits')\n",
    "#image_files_list = glob('../images/grizli_v2/20mas/*_sci.fits*')\n",
    "#image_files_list = glob('../images/*_sci.fits*')\n",
    "image_files_list = glob('../images/20mas/*_sci.fits*')\n",
    "image_files_list = list(np.sort(image_files_list))\n",
    "#image_files_list = image_files_list[-1:] + image_files_list[:-1]  # move F770W first\n",
    "image_files_list"
   ]
  },
  {
   "cell_type": "code",
   "execution_count": 26,
   "metadata": {},
   "outputs": [
    {
     "name": "stdout",
     "output_type": "stream",
     "text": [
      "f070w ../images/20mas/nep-2mass-f070w-clear_drc_sci.fits\n",
      "f115w ../images/20mas/nep-2mass-f115w-clear_drc_sci.fits\n",
      "f200w ../images/20mas/nep-2mass-f200w-clear_drc_sci.fits\n",
      "f212n ../images/20mas/nep-2mass-f212n-clear_drc_sci.fits\n",
      "f277w ../images/20mas/nep-2mass-f277w-clear_20mas_sci.fits\n",
      "f356w ../images/20mas/nep-2mass-f356w-clear_20mas_sci.fits\n",
      "f410m ../images/20mas/nep-2mass-f410m-clear_20mas_sci.fits\n",
      "f444w ../images/20mas/nep-2mass-f444w-clear_20mas_sci.fits\n"
     ]
    }
   ],
   "source": [
    "filters = list(map(extract_filter, image_files_list))\n",
    "\n",
    "image_files_dict = {}\n",
    "for i, filt in enumerate(filters):\n",
    "    image_files_dict[filt] = image_files_list[i]\n",
    "    print(filt, image_files_dict[filt])"
   ]
  },
  {
   "cell_type": "code",
   "execution_count": 27,
   "metadata": {},
   "outputs": [
    {
     "name": "stdout",
     "output_type": "stream",
     "text": [
      "f070w  20000 x 11500 pixels = 400.00\" x 230.00\" (0.02\" / pixel)\n",
      "f115w  20000 x 11500 pixels = 400.00\" x 230.00\" (0.02\" / pixel)\n",
      "f200w  20000 x 11500 pixels = 400.00\" x 230.00\" (0.02\" / pixel)\n",
      "f212n  20000 x 11500 pixels = 400.00\" x 230.00\" (0.02\" / pixel)\n",
      "f277w  20000 x 11500 pixels = 400.00\" x 230.00\" (0.02\" / pixel)\n",
      "f356w  20000 x 11500 pixels = 400.00\" x 230.00\" (0.02\" / pixel)\n",
      "f410m  20000 x 11500 pixels = 400.00\" x 230.00\" (0.02\" / pixel)\n",
      "f444w  20000 x 11500 pixels = 400.00\" x 230.00\" (0.02\" / pixel)\n"
     ]
    }
   ],
   "source": [
    "# Check size of every image; they need to be the same, all pixel aligned\n",
    "\n",
    "for filt in filters:\n",
    "    report_pixel_scale(image_files_dict[filt])\n"
   ]
  },
  {
   "cell_type": "code",
   "execution_count": null,
   "metadata": {},
   "outputs": [],
   "source": []
  }
 ],
 "metadata": {
  "kernelspec": {
   "display_name": "Python 3",
   "language": "python",
   "name": "python3"
  },
  "language_info": {
   "codemirror_mode": {
    "name": "ipython",
    "version": 3
   },
   "file_extension": ".py",
   "mimetype": "text/x-python",
   "name": "python",
   "nbconvert_exporter": "python",
   "pygments_lexer": "ipython3",
   "version": "3.10.4"
  }
 },
 "nbformat": 4,
 "nbformat_minor": 4
}
